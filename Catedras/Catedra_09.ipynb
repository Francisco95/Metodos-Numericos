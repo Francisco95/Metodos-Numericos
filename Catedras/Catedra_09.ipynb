{
 "cells": [
  {
   "cell_type": "markdown",
   "metadata": {},
   "source": [
    "# Catedra 09"
   ]
  },
  {
   "cell_type": "markdown",
   "metadata": {},
   "source": [
    "## Distribucion $\\chi^2$\n",
    "\n",
    "$$\n",
    "\\chi^2 = \\sum_{i=1}^N\\left[\\frac{y_i-f(x_i;\\vec{a})}{\\sigma_i}\\right]^2 \\leadsto \\chi^2_{N-m}\n",
    "$$\n",
    "con $N$ el numero de datos y $m$ el numero de parametros.\n",
    "$$\n",
    "\\mathbb{E}\\left[\\chi^2_{N-m}\\right] = N-m\n",
    "$$\n",
    "La distribucion $\\chi^2$ reducida se puede escribir como\n",
    "$$\n",
    "\\chi^2_\\text{red} = \\frac{\\chi^2}{N-m}\n",
    "$$\n",
    "Para un ajuste relativamente bueno $\\chi^2_\\text{red} \\sim 1$\n",
    "\n",
    "graficos y chi critico\n",
    "\n",
    "Dado $\\alpha \\rightarrow \\chi^2_\\text{crit}$ nuestro $\\chi^2_\\text{medido} \\geq \\chi^2_\\text{crit}$"
   ]
  },
  {
   "cell_type": "markdown",
   "metadata": {},
   "source": [
    "## Test de Kolmogorov-Smirnov\n",
    "Util cuando no se puede confiar en los errores estimados para los datos (e.g. los errores no son gaussianos)\n",
    "\n",
    "grafico"
   ]
  },
  {
   "cell_type": "markdown",
   "metadata": {},
   "source": [
    "Se plantea la hipotesis nula:\n",
    "\n",
    "$H_0$ : \"Los datos son consistentes con el modelo dados los parametros del mejor fit\"\"\n",
    "\n",
    "$H_0$ sera rechazada para una tolerancia $\\alpha$, si $D_n > D_\\alpha$ donde $D_\\alpha$ sale de la distribucion de K-S con probabilidad $\\alpha$"
   ]
  }
 ],
 "metadata": {
  "anaconda-cloud": {},
  "kernelspec": {
   "display_name": "Python [Root]",
   "language": "python",
   "name": "Python [Root]"
  },
  "language_info": {
   "codemirror_mode": {
    "name": "ipython",
    "version": 2
   },
   "file_extension": ".py",
   "mimetype": "text/x-python",
   "name": "python",
   "nbconvert_exporter": "python",
   "pygments_lexer": "ipython2",
   "version": "2.7.12"
  }
 },
 "nbformat": 4,
 "nbformat_minor": 0
}
