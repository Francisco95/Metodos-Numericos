{
 "cells": [
  {
   "cell_type": "markdown",
   "metadata": {},
   "source": [
    "# Catedra 04"
   ]
  },
  {
   "cell_type": "code",
   "execution_count": 1,
   "metadata": {
    "collapsed": false
   },
   "outputs": [
    {
     "name": "stderr",
     "output_type": "stream",
     "text": [
      "//anaconda/lib/python2.7/site-packages/matplotlib/font_manager.py:273: UserWarning: Matplotlib is building the font cache using fc-list. This may take a moment.\n",
      "  warnings.warn('Matplotlib is building the font cache using fc-list. This may take a moment.')\n"
     ]
    }
   ],
   "source": [
    "import numpy as np\n",
    "import matplotlib.pyplot as plt\n",
    "\n",
    "%matplotlib inline"
   ]
  },
  {
   "cell_type": "markdown",
   "metadata": {},
   "source": [
    "# Raices de una funcion\n",
    "\n",
    "Se quiere encontrar numericamente las raices o ceros de una funcion. $f(x)$.\n",
    "\n",
    "Note que $f(x^{*}) = x^{*}$\n",
    "\n",
    "Asi se puede definir $g(x) = f(x) - x$, y de esta forma $g(x^{*}) = 0$"
   ]
  },
  {
   "cell_type": "markdown",
   "metadata": {},
   "source": [
    "## Metodo de la biseccion"
   ]
  },
  {
   "cell_type": "markdown",
   "metadata": {},
   "source": [
    "![title](../img/bisection_demo.png \"Idea del metodo.\")\n",
    "\n",
    "Este metodo tiene las siguientes hipotesis:\n",
    "- $f$ debe ser una funcion continua.\n",
    "- El intervalo de busqueda debe ser acotado $[a, b]$\n",
    "- $f(a)$ debe tener signo opuesto a $f(b)$ ($f(a)\\cdot f(b) < 0$)\n",
    "\n",
    "Bajo estas condiciones se asegura que siempre existe al menos una raiz de $f$ en $[a, b]$ gracias al __Teorema de Valor Intermedio__."
   ]
  },
  {
   "cell_type": "markdown",
   "metadata": {},
   "source": [
    "El algoritmo para el metodo de la biseccion sigue de la siguiente manera:\n",
    "\n",
    "$$\n",
    "a_{n}, b_{n} \\\\\n",
    "p_{n} = \\frac{a_{n}+b_{n}}{2} \\\\\n",
    "\\Bigg\\{ \n",
    "\\begin{array}{c}\n",
    "    g(a_n)\\cdot g(p_n) > 0 \\rightarrow a_{n+1} = p_{n} \\\\\n",
    "    g(b_n)\\cdot g(p_n) < 0 \\rightarrow a_{n+1} = p_{n}\n",
    "\\end{array} \\\\\n",
    "\\Bigg\\{\n",
    "\\begin{array}{c}\n",
    "    g(a_n)\\cdot g(p_n) < 0 \\rightarrow b_{n+1} = p_{n} \\\\\n",
    "    g(b_n)\\cdot g(p_n) > 0 \\rightarrow b_{n+1} = p_{n}\n",
    "\\end{array}\n",
    "$$"
   ]
  },
  {
   "cell_type": "markdown",
   "metadata": {},
   "source": [
    "En palabras:\n",
    "1. Se calcula p = $\\frac{a+b}{2}$.\n",
    "2. Se evalua $f(p)$.\n",
    "3. Si se cumple la convergencia, es decir, $a-p$ o $b-p$ es suficientemente pequeño, se retorna $p$ y se detiene el algoritmo.\n",
    "4. Se examina el signo de $f(p)$ y se reemplaza $(a,\\,\\, f(a))$ o $(b,\\,\\, f(b))$ con $(c,\\,\\, f(c))$ tal que haya un cero entre los dos nuevos extremos.\n"
   ]
  },
  {
   "cell_type": "markdown",
   "metadata": {},
   "source": [
    "### Una implementacion simple del algoritmo es la que sigue:"
   ]
  },
  {
   "cell_type": "code",
   "execution_count": 2,
   "metadata": {
    "collapsed": true
   },
   "outputs": [],
   "source": [
    "def bisection(f, a, b, eps=1e-5):\n",
    "    '''\n",
    "    Bisection busca la raiz de la funcion f a traves del metodo de la biseccion.\n",
    "    \n",
    "    Parameters\n",
    "    ----------\n",
    "    f : function\n",
    "        Funcion a evaluar.\n",
    "    a : int or double\n",
    "        Valor inical del intervalo.\n",
    "    b : int or double\n",
    "        Valor final del intervalo.\n",
    "    eps : int or double\n",
    "        Tolerancia pedida.\n",
    "    \n",
    "    Returns\n",
    "    -------\n",
    "    root : float\n",
    "        Cero de la funcion.\n",
    "        \n",
    "    Raises\n",
    "    ------\n",
    "    ValueError\n",
    "        Cuando a y b tienen el mismo signo.\n",
    "    '''\n",
    "    if a*b > 0:\n",
    "        raise ValueError(\"a y b deben tener signos opuestos (a={}, b={}).\".format(a,b))\n",
    "        \n",
    "    root = (a+b)/2.\n",
    "    \n",
    "    while abs(root-a)>eps or abs(root-b)>eps:\n",
    "        if f(a)*f(root) < 0:\n",
    "            b = root\n",
    "        else:\n",
    "            a = root\n",
    "        root = (a+b)/2.\n",
    "\n",
    "    return root"
   ]
  },
  {
   "cell_type": "markdown",
   "metadata": {},
   "source": [
    "## Un ejemplo:"
   ]
  },
  {
   "cell_type": "code",
   "execution_count": 3,
   "metadata": {
    "collapsed": false
   },
   "outputs": [
    {
     "data": {
      "text/plain": [
       "<matplotlib.legend.Legend at 0x112028910>"
      ]
     },
     "execution_count": 3,
     "metadata": {},
     "output_type": "execute_result"
    },
    {
     "data": {
      "image/png": "[encoded data removed]",
      "text/plain": [
       "<matplotlib.figure.Figure at 0x10c9a39d0>"
      ]
     },
     "metadata": {},
     "output_type": "display_data"
    }
   ],
   "source": [
    "x = np.linspace(0, np.pi, 100)\n",
    "\n",
    "plt.plot(x, np.sin(x), 'b', label='sin(x)')\n",
    "plt.plot(x, np.cos(x), 'r', label='cos(x)')\n",
    "plt.xlabel('x [radianes]')\n",
    "plt.legend()"
   ]
  },
  {
   "cell_type": "code",
   "execution_count": 4,
   "metadata": {
    "collapsed": true
   },
   "outputs": [],
   "source": [
    "def sin_menos_cos(x):\n",
    "    '''\n",
    "    sin_menos_cos calcula la resta entre sin(x) y cos(x).\n",
    "    \n",
    "    Parameters\n",
    "    ----------\n",
    "    x : int or float\n",
    "        Punto a evaluar la funcion.\n",
    "    \n",
    "    Returns\n",
    "    -------\n",
    "    res : float\n",
    "        sin(x)-cos(x).\n",
    "    '''\n",
    "    res = np.sin(x) - np.cos(x)\n",
    "    return res"
   ]
  },
  {
   "cell_type": "code",
   "execution_count": 5,
   "metadata": {
    "collapsed": false
   },
   "outputs": [
    {
     "data": {
      "text/plain": [
       "<matplotlib.legend.Legend at 0x1124cb690>"
      ]
     },
     "execution_count": 5,
     "metadata": {},
     "output_type": "execute_result"
    },
    {
     "data": {
      "image/png": "[encoded data removed]",
      "text/plain": [
       "<matplotlib.figure.Figure at 0x1120a22d0>"
      ]
     },
     "metadata": {},
     "output_type": "display_data"
    }
   ],
   "source": [
    "cero = bisection(sin_menos_cos, 0., 1.5, eps=.1)\n",
    "\n",
    "plt.plot(x, np.sin(x), 'b', label='sin(x)')\n",
    "plt.plot(x, np.cos(x), 'r', label='cos(x)')\n",
    "plt.xlabel('x [radianes]')\n",
    "plt.axvline(cero, color='g')\n",
    "plt.legend()"
   ]
  },
  {
   "cell_type": "code",
   "execution_count": 6,
   "metadata": {
    "collapsed": false
   },
   "outputs": [
    {
     "data": {
      "text/plain": [
       "<matplotlib.legend.Legend at 0x1125fb650>"
      ]
     },
     "execution_count": 6,
     "metadata": {},
     "output_type": "execute_result"
    },
    {
     "data": {
      "image/png": "[encoded data removed]",
      "text/plain": [
       "<matplotlib.figure.Figure at 0x112593450>"
      ]
     },
     "metadata": {},
     "output_type": "display_data"
    }
   ],
   "source": [
    "cero_2 = bisection(sin_menos_cos, 0., 1.5, eps=1e-10)\n",
    "\n",
    "plt.plot(x, np.sin(x), 'b', label='sin(x)')\n",
    "plt.plot(x, np.cos(x), 'r', label='cos(x)')\n",
    "plt.xlabel('x [radianes]')\n",
    "plt.axvline(cero, color='brown')\n",
    "plt.axvline(cero_2, color='g')\n",
    "plt.legend()"
   ]
  }
 ],
 "metadata": {
  "anaconda-cloud": {},
  "kernelspec": {
   "display_name": "Python [Root]",
   "language": "python",
   "name": "Python [Root]"
  },
  "language_info": {
   "codemirror_mode": {
    "name": "ipython",
    "version": 2
   },
   "file_extension": ".py",
   "mimetype": "text/x-python",
   "name": "python",
   "nbconvert_exporter": "python",
   "pygments_lexer": "ipython2",
   "version": "2.7.12"
  }
 },
 "nbformat": 4,
 "nbformat_minor": 0
}
