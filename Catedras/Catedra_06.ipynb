{
 "cells": [
  {
   "cell_type": "markdown",
   "metadata": {},
   "source": [
    "# Catedra 06\n",
    "\n",
    "## Metodos de resolucion de ecuaciones lineales."
   ]
  },
  {
   "cell_type": "code",
   "execution_count": 1,
   "metadata": {
    "collapsed": true
   },
   "outputs": [],
   "source": [
    "import scipy as sp\n",
    "import scipy.linalg as alg"
   ]
  },
  {
   "cell_type": "markdown",
   "metadata": {},
   "source": [
    "### Algebra Lineal\n",
    "\n",
    "$$\n",
    "\\begin{array}{ccc}\n",
    "    a_{11}x_{1}+a_{12}x_{2}+\\ldots+a_{1n}x_{n} & = & b_{1} \\\\\n",
    "    a_{21}x_{1}+a_{22}x_{2}+\\ldots+a_{2n}x_{n} & = & b_{2} \\\\\n",
    "    & \\vdots & \\\\\n",
    "    a_{n1}x_{1}+a_{n2}x_{2}+\\ldots+a_{nn}x_{n} & = & b_{n} \\\\\n",
    "    \\leftrightarrow & & \\\\\n",
    "    A\\vec{X} = \\vec{b}\n",
    "\\end{array}\n",
    "$$\n",
    "$$\n",
    "    A = \\left[\\begin{array}{ccc}\n",
    "        a_{11} & \\dots & a_{1n} \\\\\n",
    "        \\vdots & \\ddots & \\vdots \\\\\n",
    "        a_{n1} & \\dots & a_{nn}\n",
    "    \\end{array}\\right]\n",
    "$$"
   ]
  },
  {
   "cell_type": "markdown",
   "metadata": {},
   "source": [
    "Para invertir la matriz $A$\n",
    "\n",
    "$$\n",
    "\\begin{array}{c}\n",
    "    A\\vec{X} = \\vec{b}\\quad / A^{-1}\\cdot \\\\\n",
    "    \\vec{X} = A^{-1}\\cdot\\vec{b}\n",
    "\\end{array}\n",
    "$$\n",
    "\n",
    "Con $\\vec{X}$ las incognitas."
   ]
  },
  {
   "cell_type": "markdown",
   "metadata": {},
   "source": [
    "## Eliminacion de Gauss\n",
    "### Toma ventaja de cambios que se pueden hacer sin alterar el sistema.\n",
    "- Multiplicar una ecuacion (fila) por una constante $\\lambda$.\n",
    "- Cambiar el orden de las ecuaciones.\n",
    "- Sumar dos ecuaciones (filas) multiplicadas por constante\n",
    "\n",
    "### Objetivo: transformar el sistema de ecuaciones en:\n",
    "\n",
    "$$\n",
    "\\left[\\begin{array}{cccc}\n",
    "    1 & a'_{12}& \\ldots & a'_{1n} \\\\\n",
    "    0 & 1 & \\ldots & \\vdots \\\\\n",
    "    0 & 0 & \\ddots & \\vdots \\\\\n",
    "    0 & 0 & 0 & 1\n",
    "\\end{array}\\right] \n",
    "\\cdot\n",
    "\\left[\\begin{array}{c}\n",
    "    x_{1} \\\\\n",
    "    x_{2} \\\\\n",
    "    \\vdots \\\\\n",
    "    x_{n}\n",
    "\\end{array}\\right] \n",
    "=\n",
    "\\left[\\begin{array}{c}\n",
    "    b'_{1} \\\\\n",
    "    b'_{2} \\\\\n",
    "    \\vdots \\\\\n",
    "    b'_{n}\n",
    "\\end{array}\\right] \n",
    "$$"
   ]
  },
  {
   "cell_type": "markdown",
   "metadata": {},
   "source": [
    "[Algoritmo de elminacion de Gauss](https://es.wikipedia.org/wiki/Eliminación_de_Gauss-Jordan \"Algoritmo de Gauss\")"
   ]
  },
  {
   "cell_type": "markdown",
   "metadata": {},
   "source": [
    "Luego de transformar $A$ en triangular.\n",
    "$$\n",
    "\\begin{array}{ccccc}\n",
    "    &x_{1}+ & a'_{12}x_{2}+\\ldots+a'_{1n}x_{n} & = & b'_{1} \\\\\n",
    "    && x_{2}+a'_{23}x_{3} + \\ldots + a'_{2n}x_{n} & = & b'_{2} \\\\\n",
    "    && \\vdots & & & \\\\\n",
    "    & & x_{n} & = & b'_{n}\n",
    "\\end{array}\n",
    "$$"
   ]
  },
  {
   "cell_type": "markdown",
   "metadata": {},
   "source": [
    "## Descomposicion LU o PLU\n",
    "### Idea: transformar $A\\vec{X}=\\vec{b}$ en dos problemas con matriz triangular.\n",
    "$$A = L\\cdot U$$\n",
    "$L = $ lower, triangular inferior; $U = $ upper, triangular superior.\n",
    "Asi \n",
    "$$A\\vec{X} = LU\\vec{X} = \\vec{b}$$\n",
    "$$L\\vec{Y} = \\vec{b}$$"
   ]
  },
  {
   "cell_type": "markdown",
   "metadata": {},
   "source": [
    "Nota: La descomposicion $LU$ no es unica. Por lo general, ademas se impone $l_{kk} = 1$ o $u_{kk} = 1$"
   ]
  },
  {
   "cell_type": "markdown",
   "metadata": {},
   "source": [
    "Mas general es la descomposicion $A=PLU$, en donde $P$ es una matriz de permutaciones.\n",
    "\n",
    "### Optimizaciones tipicas:\n",
    "- A es tri-diagonal (o multi-diagonal).\n",
    "- A tiene pocos elementos (sparce matrix)."
   ]
  },
  {
   "cell_type": "markdown",
   "metadata": {},
   "source": [
    "Ejemplo:\n",
    "\n",
    "Se resolvera el problema $A\\vec{X} = \\vec{b}$ con\n",
    "$$\n",
    "A = \\left[\\begin{array}{cccc}\n",
    "    0&1&1&-3 \\\\\n",
    "    -2&3&1&4 \\\\\n",
    "    0&0&0&1 \\\\ \n",
    "    3&1&0&0\n",
    "\\end{array}\\right]\n",
    "b = \\left[\\begin{array}{c}\n",
    "    3 \\\\ -2 \\\\ 5 \\\\ 1\n",
    "\\end{array}\\right]\n",
    "$$"
   ]
  },
  {
   "cell_type": "code",
   "execution_count": 2,
   "metadata": {
    "collapsed": false
   },
   "outputs": [
    {
     "data": {
      "text/plain": [
       "array([  5.25, -14.75,  32.75,   5.  ])"
      ]
     },
     "execution_count": 2,
     "metadata": {},
     "output_type": "execute_result"
    }
   ],
   "source": [
    "A = sp.array([[0,1,1,-3],\n",
    "              [-2,3,1,4],\n",
    "              [0,0,0, 1],\n",
    "              [3,1,0,0]])\n",
    "\n",
    "b = sp.array([3,-2,5,1])\n",
    "\n",
    "alg.solve(A,b)"
   ]
  }
 ],
 "metadata": {
  "kernelspec": {
   "display_name": "Python [Root]",
   "language": "python",
   "name": "Python [Root]"
  },
  "language_info": {
   "codemirror_mode": {
    "name": "ipython",
    "version": 2
   },
   "file_extension": ".py",
   "mimetype": "text/x-python",
   "name": "python",
   "nbconvert_exporter": "python",
   "pygments_lexer": "ipython2",
   "version": "2.7.12"
  }
 },
 "nbformat": 4,
 "nbformat_minor": 0
}
