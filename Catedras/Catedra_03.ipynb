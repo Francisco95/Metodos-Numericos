{
 "cells": [
  {
   "cell_type": "markdown",
   "metadata": {},
   "source": [
    "# Catedra 03"
   ]
  },
  {
   "cell_type": "markdown",
   "metadata": {},
   "source": [
    "#### Notacion y repaso de integracion numerica:\n",
    "- $f_{i} = f(a+i\\Delta x) $\n",
    "- Si se integra desde a hasta b: $f_{0} = f(a)$ y $f_{N} = f(b)$\n",
    "- Trapecio: $\\int_{x_{0}}^{x_{0}+\\Delta x}f(x)dx = \\frac{1}{2}(f(x_{0}) + f(x_{0}+\\Delta x))\\Delta x + O(\\Delta x^{4})$\n",
    "- Trapecio compuesto: $\\int_{a}^{b}f(x)dx = \\frac{1}{2}\\sum_{i=0}^{N-1}(f_{i}+f_{i+1})\\Delta x + O(\\Delta x^{3})$ = $\\frac{\\Delta x}{2}\\left[f_{0} + \\sum_{i=1}^{N-1}f_{i} + f_{N}\\right]$; con $\\Delta x$ constante.\n",
    "- Simpson: $\\int_{x_{0}}^{x_{0}+\\Delta x}f(x)dx = \\frac{\\Delta x}{3}\\left[f({x_{0}})+4f(x_{0}+\\Delta x)+f(x_{0}+2\\Delta x)\\right] + O(\\Delta x^5)$\n",
    "- Simpson compuesto: $\\int_{a}^{b}f(x)dx = \\frac{\\Delta x}{3}\\left[f_{0}+4\\sum_{i=1}^{N-1}f_{2i+1}+2\\sum_{i=1}^{N-1}f_{2i} + f_{N}\\right] + O(\\Delta x^4)$, con $\\Delta x$ constante."
   ]
  },
  {
   "cell_type": "markdown",
   "metadata": {},
   "source": [
    "#### Nota sobre implementacion:\n",
    "- Es de importancia conocer la precision del calculo. Es por eso que es recomendable que en la implementacion de un algoritmo este incorporado el calculo para una subdivision mas pequeña de tal forma que se pueda comparar los calculos.\n",
    "  - Ejemplo: $I_{3} = \\frac{\\Delta x}{2}\\left[f_{0}+2\\sum_{i=1}^{2}f_{i}+f_{N}\\right]$\n",
    "  - $I_{6} = \\frac{\\Delta x^{2}}{2}\\left[f_{0}+2\\sum_{i=1}^{3}f_{2i-1}+2\\sum_{i=1}^{2}f_{2i} + f_{N}\\right]$\n",
    "  - Agregar regla de comparacion y criterio para detenerse.\n",
    "  - $\\frac{\\vert I_{2n}-I_{n}\\vert}{\\vert I_{n}\\vert}\\leq \\epsilon$ : Criterio de precision.\n",
    "- Note que $S_{2n} = \\frac{4}{3}I_{2n}-\\frac{1}{3}I_{n}$\n"
   ]
  },
  {
   "cell_type": "markdown",
   "metadata": {},
   "source": [
    "Limitaciones:\n",
    "1. Malo para funciones de alto contraste.\n",
    "2. No funciona si la funcion a integrar tiene divergencias.\n",
    "3. El intervalo debe ser finito."
   ]
  },
  {
   "cell_type": "markdown",
   "metadata": {},
   "source": [
    "Para el caso en que la funcion presente divergencias (grafico) se puede aplicar la regla del punto medio:"
   ]
  },
  {
   "cell_type": "markdown",
   "metadata": {},
   "source": [
    "## Regla del Punto medio:\n",
    "\n",
    "$$I = \\int_{x_{0}-\\frac{\\Delta x}{2}}^{x_{0}+\\frac{\\Delta x}{2}}f(x)dx = \\int_{x_{0}-\\frac{\\Delta x}{2}}^{x_{0}+\\frac{\\Delta x}{2}}\\left[f(x_{0})+f'(x_{0})(x-x_{0})+\\frac{f''(x_{0})(x-x_{0})^{2}}{2}+\\ldots\\right]\n",
    "$$"
   ]
  },
  {
   "cell_type": "markdown",
   "metadata": {},
   "source": [
    "$$\n",
    "= f(x_{0})\\Delta x + f'(x_{0})\\frac{(x-x_{0})^{2}}{2}\\biggr\\vert_{x_{0}-\\frac{\\Delta x}{2}}^{x_{0}+\\frac{\\Delta x}{2}} + f''(x_{0})\\frac{(x-x_{0})^{3}}{6}\\biggr\\vert_{x_{0}-\\frac{\\Delta x}{2}}^{x_{0}+\\frac{\\Delta x}{2}}\n",
    "$$"
   ]
  },
  {
   "cell_type": "markdown",
   "metadata": {},
   "source": [
    "Para el caso en que el intervalo de integracion sea infinito, se puede intentar aplicar un cambio de variable para acotar el intervalo (con el problema de que esto podria generar divergencias en la funcion):"
   ]
  },
  {
   "cell_type": "markdown",
   "metadata": {},
   "source": [
    "En general:\n",
    "\n",
    "$I = \\int_{a}^{b}f(x)dx$; c.v. $y = g(x)\\quad dy = g'(x)dx$\n",
    "\n",
    "Se tiene que ser cuidadoso en elegir una funcion $g(x)$ que por lo menos sea de clase $C^{1}$ y sea invertible. Es decir, debe existir $g'(x)$ y $g^{-1}(x)$\n",
    "\n",
    "$I = \\int_{g(a)}^{g(b)}\\left[\\frac{f(x)}{g'(x)}\\right]_{x=g^{-1}(y)}dy$"
   ]
  },
  {
   "cell_type": "markdown",
   "metadata": {},
   "source": [
    "Ejemplo con intervalo infinito:\n",
    "$$\n",
    "I = \\int_{0}^{\\infty}e^{-x^{2}+x}dx\\quad\\text{c.v.}\\,\\,\\,\\, y = e^{-x}\\,\\,\\,dy=-e^{-x}dx\n",
    "$$"
   ]
  },
  {
   "cell_type": "markdown",
   "metadata": {},
   "source": [
    "$$\n",
    "= \\int_{1}^{0}\\left[\\frac{e^{-x^{2}+x}}{-e^{-x}}\\right]_{x=-ln(y)}dy\n",
    "$$"
   ]
  },
  {
   "cell_type": "markdown",
   "metadata": {},
   "source": [
    "$$\n",
    "= \\int_{0}^{1}e^{-x^{2}+2x}\\biggr\\vert_{x=ln(y)}dy\n",
    "$$"
   ]
  },
  {
   "cell_type": "markdown",
   "metadata": {},
   "source": [
    "$$\n",
    "I = \\int_{0}^{1}e^{-ln^{2}(y)-2ln(y)}dy\n",
    "$$\n",
    "\n",
    "Note que una grilla equiespaciada en y equivale a una grilla exponencial en x, lo que en este caso es aceptable ya que se deshace del intervalo no acotado."
   ]
  },
  {
   "cell_type": "markdown",
   "metadata": {},
   "source": [
    "### Otros cambios de variables tipicos:\n",
    "- $\\int_{a}^{b}f(x)dx = \\int_{\\frac{1}{b}}^{frac{1}{a}}f(\\frac{1}{y})\\frac{dy}{y^{2}}$ cv: $y = \\frac{1}{x}\\rightarrow dy = -\\frac{1}{x^{2}}dx$\n",
    "  - Restriccion: El nuevo integrando debe ser integrable, es decir, $f$ debe converger mas rapipdo que $\\frac{1}{y^{2}}$\n",
    "- Ley de ptoencia integrable: cv: $y = (x-a)^{1-\\gamma}\\rightarrow dy = (1-\\gamma)(x-a)^{-\\gamma}dx$\n",
    "\n",
    "   $$\\int_{a}^{b}f(x)dx = \\int_{0}^{(b-a)^{1-\\gamma}}f\\left(y^{\\frac{1}{1-\\gamma}}\\right)\\frac{(x-a)^{\\gamma}}{1-\\gamma}dy = \\int_{0}^{(b-a)^{1-\\gamma}}f\\left(y^{\\frac{1}{1-\\gamma}}\\right)\\frac{y^{\\frac{\\gamma}{1-\\gamma}}}{1-\\gamma}dy$$\n",
    "  - Si la divergencia es en $b \\rightarrow \\text{cv:}\\quad y = (x-b)^{1-\\gamma}$\n",
    "- Otras:\n",
    "  - $y = \\arctan(x)$\n",
    "  - $y = e^{-x}$"
   ]
  }
 ],
 "metadata": {
  "anaconda-cloud": {},
  "kernelspec": {
   "display_name": "Python [Root]",
   "language": "python",
   "name": "Python [Root]"
  },
  "language_info": {
   "codemirror_mode": {
    "name": "ipython",
    "version": 2
   },
   "file_extension": ".py",
   "mimetype": "text/x-python",
   "name": "python",
   "nbconvert_exporter": "python",
   "pygments_lexer": "ipython2",
   "version": "2.7.12"
  }
 },
 "nbformat": 4,
 "nbformat_minor": 0
}
